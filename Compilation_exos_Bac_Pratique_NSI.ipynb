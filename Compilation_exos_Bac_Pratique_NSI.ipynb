{
  "nbformat": 4,
  "nbformat_minor": 0,
  "metadata": {
    "colab": {
      "provenance": [],
      "authorship_tag": "ABX9TyNxy2OUPvABs20u9IFh4Ryv",
      "include_colab_link": true
    },
    "kernelspec": {
      "name": "python3",
      "display_name": "Python 3"
    },
    "language_info": {
      "name": "python"
    }
  },
  "cells": [
    {
      "cell_type": "markdown",
      "metadata": {
        "id": "view-in-github",
        "colab_type": "text"
      },
      "source": [
        "<a href=\"https://colab.research.google.com/github/LucasColas/Correction-Sujets-BAC-NSI/blob/main/Compilation_exos_Bac_Pratique_NSI.ipynb\" target=\"_parent\"><img src=\"https://colab.research.google.com/assets/colab-badge.svg\" alt=\"Open In Colab\"/></a>"
      ]
    },
    {
      "cell_type": "markdown",
      "source": [
        "\n",
        "# Entrainement Epreuve Pratique NSI"
      ],
      "metadata": {
        "id": "8lhbunKsF4AC"
      }
    },
    {
      "cell_type": "markdown",
      "source": [
        "## Exercice 0\n",
        "\n",
        "Écrire une fonction recherche qui prend en paramètres elt un nombre entier et tab\n",
        "un tableau de nombres entiers, et qui renvoie l’indice de la première occurrence de elt\n",
        "dans tab si elt est dans tab et -1 sinon."
      ],
      "metadata": {
        "id": "EIT5JzUzj0pw"
      }
    },
    {
      "cell_type": "markdown",
      "source": [
        "Exemples :\n",
        "\n",
        "recherche(1, [2, 3, 4])\n",
        "\n",
        "==> -1\n",
        "\n",
        "recherche(1, [10, 12, 1, 56])\n",
        "\n",
        "==> 2\n",
        "\n",
        "recherche(50, [1, 50, 1])\n",
        "\n",
        "==> 1\n",
        "\n",
        "recherche(15, [8, 9, 10, 15])\n",
        "\n",
        "==> 3"
      ],
      "metadata": {
        "id": "P9C5Opgyj5fw"
      }
    },
    {
      "cell_type": "code",
      "source": [
        "def recherche(elt,tab):\n",
        "  for i in range(len(tab)):\n",
        "    if tab[i] == elt:\n",
        "      return i\n",
        "  return -1\n",
        "\n",
        "recherche(15, [8, 9, 10, 15])"
      ],
      "metadata": {
        "colab": {
          "base_uri": "https://localhost:8080/"
        },
        "id": "s3_KmKHKs965",
        "outputId": "7f9eb142-90f9-47a1-bce9-e2de945b0dff"
      },
      "execution_count": null,
      "outputs": [
        {
          "output_type": "execute_result",
          "data": {
            "text/plain": [
              "3"
            ]
          },
          "metadata": {},
          "execution_count": 7
        }
      ]
    },
    {
      "cell_type": "markdown",
      "source": [
        "Remarque : "
      ],
      "metadata": {
        "id": "ks2ZuFpKGOWj"
      }
    },
    {
      "cell_type": "code",
      "source": [
        "#2 manière de faire un parcours séquentielle:\n",
        "#1 : parcours avec \"index\"\n",
        "for i in range(len(tableau)):\n",
        "  tableau[i]\n",
        "\n",
        "#2 : parcours direct : \n",
        "for valeur in tableau:\n",
        "  print(valeur)"
      ],
      "metadata": {
        "id": "qDSMWLWMt3Vi"
      },
      "execution_count": null,
      "outputs": []
    },
    {
      "cell_type": "markdown",
      "source": [
        "## Exercice 1\n",
        "\n",
        "Écrire une fonction RechercheMinMax qui prend en paramètre un tableau de nombres\n",
        "non triés tab, et qui renvoie la plus petite et la plus grande valeur du tableau sous la\n",
        "forme d’un dictionnaire à deux clés ‘min’ et ‘max’. Les tableaux seront représentés sous\n",
        "forme de liste Python.\n",
        "\n",
        "Exemple 1 :\n",
        "\n",
        "tableau = [0, 1, 4, 2, -2, 9, 3, 1, 7, 1]\n",
        "\n",
        "resultat = rechercheMinMax(tableau)\n",
        "\n",
        "resultat\n",
        "\n",
        "{'min': -2, 'max': 9}\n",
        "\n",
        "Exemple 2 : \n",
        "\n",
        "tableau = []\n",
        " \n",
        "resultat = rechercheMinMax(tableau)\n",
        "\n",
        "resultat\n",
        "\n",
        "{'min': None, 'max': None}"
      ],
      "metadata": {
        "id": "CzJFKDaAg6jr"
      }
    },
    {
      "cell_type": "code",
      "source": [
        "def recherche(tab):\n",
        "  if tab==[]: #len(tab) == 0\n",
        "    return {'min':None,'max':None}\n",
        "  mini=tab[0]\n",
        "  maxi=tab[0]\n",
        "  for i in tab:\n",
        "    if i<mini:\n",
        "        mini=i\n",
        "    if i>maxi:\n",
        "        maxi=i\n",
        "            \n",
        "  return {'min':mini,'max':maxi}\n",
        "print(recherche([15,-1,30,500]))"
      ],
      "metadata": {
        "id": "NGU53yfXg6U9"
      },
      "execution_count": null,
      "outputs": []
    },
    {
      "cell_type": "markdown",
      "source": [
        "## Exercice 2\n",
        "\n",
        "Écrire une fonction maxi qui prend en paramètre une liste tab de nombres entiers et qui\n",
        "renvoie un couple donnant le plus grand élément de cette liste ainsi que l’indice de la\n",
        "première apparition de ce maximum dans la liste.\n",
        "\n",
        "Exemple :\n",
        "\n",
        "maxi([1,5,6,9,1,2,3,7,9,8])\n",
        "\n",
        "==> (9,3)"
      ],
      "metadata": {
        "id": "hGJU83sbhq_P"
      }
    },
    {
      "cell_type": "code",
      "execution_count": 3,
      "metadata": {
        "colab": {
          "base_uri": "https://localhost:8080/"
        },
        "id": "G29Ohxaeg1o2",
        "outputId": "9fa5eca4-6674-408b-a236-92b4d1d12ca1"
      },
      "outputs": [
        {
          "output_type": "execute_result",
          "data": {
            "text/plain": [
              "(<function max>, 3)"
            ]
          },
          "metadata": {},
          "execution_count": 3
        }
      ],
      "source": [
        "def maxi(tab):\n",
        "  if len(tab) == 0:\n",
        "    return (None, None)\n",
        "  max_ = tab[0]\n",
        "  index_max = 0\n",
        "  for i in range(len(tab)):\n",
        "    if max_ < tab[i]:\n",
        "      max_ = tab[i]\n",
        "      index_max = i\n",
        "  \n",
        "  return (max_, index_max)\n",
        "\n",
        "maxi([1,5,6,9,1,2,3,7,9,8])"
      ]
    },
    {
      "cell_type": "markdown",
      "source": [
        "## Exercice 3\n",
        "\n",
        "La fonction recherche prend en paramètres deux chaines de caractères gene et\n",
        "seq_adn et renvoie True si on retrouve gene dans seq_adn et False sinon.\n",
        "\n",
        "Compléter le code Python ci-dessous pour qu’il implémente la fonction recherche."
      ],
      "metadata": {
        "id": "uKl3Emw5h7jY"
      }
    },
    {
      "cell_type": "code",
      "source": [
        "def recherche(gene, seq_adn):\n",
        "  n = len(seq_adn)\n",
        "  g = len(gene)\n",
        "  i = 0\n",
        "  trouve = False\n",
        "  while i < n and trouve == False:\n",
        "    j = 0\n",
        "    while j < g and gene[j] == seq_adn[i+j]:\n",
        "      j += 1\n",
        "    if j == g:\n",
        "      trouve = True\n",
        "    i += 1\n",
        "  return trouve"
      ],
      "metadata": {
        "id": "ygthO2fGh_2E"
      },
      "execution_count": null,
      "outputs": []
    },
    {
      "cell_type": "markdown",
      "source": [
        "Exemple : \n",
        "\n",
        "recherche(\"AATC\", \"GTACAAATCTTGCC\")\n",
        "\n",
        "True\n",
        "\n",
        "recherche(\"AGTC\", \"GTACAAATCTTGCC\")\n",
        "\n",
        "False"
      ],
      "metadata": {
        "id": "GTTrdwKciAv2"
      }
    },
    {
      "cell_type": "markdown",
      "source": [
        "## Exercice 4\n",
        "\n",
        "On considère la fonction insere ci-dessous qui prend en argument un entier a et un\n",
        "tableau tab d'entiers triés par ordre croissant. Cette fonction insère la valeur a dans le\n",
        "tableau et renvoie le nouveau tableau. Les tableaux seront représentés sous la forme de\n",
        "listes python."
      ],
      "metadata": {
        "id": "2JWOtvtYiZAQ"
      }
    },
    {
      "cell_type": "code",
      "source": [
        "def insere(a, tab):\n",
        "  l = list(tab) #l contient les mêmes éléments que tab\n",
        "  l.append(a)\n",
        "  i = len(l) - 2\n",
        "  while a < [i] and i >= 0:\n",
        "    l[i+1] = l[i]\n",
        "    l[i] = a\n",
        "    i = i - 1\n",
        "  return l\n",
        "\n",
        "insere(3, [1,2,4,5])"
      ],
      "metadata": {
        "colab": {
          "base_uri": "https://localhost:8080/"
        },
        "id": "M_MhypKYib0M",
        "outputId": "1550440c-1c02-449a-f1b1-66e7e7ad762f"
      },
      "execution_count": null,
      "outputs": [
        {
          "output_type": "execute_result",
          "data": {
            "text/plain": [
              "[1, 2, 3, 4, 5]"
            ]
          },
          "metadata": {},
          "execution_count": 10
        }
      ]
    },
    {
      "cell_type": "markdown",
      "source": [
        "tab = [1,2,4,5]\n",
        "\n",
        "a = 3\n",
        "\n",
        "l = [1,2,4,5]\n",
        "\n",
        "l = [1,2,3,4,5,3]\n",
        "\n",
        "==> tab = [1,2,3,4,5]\n"
      ],
      "metadata": {
        "id": "KlDG0mzX1RYm"
      }
    },
    {
      "cell_type": "markdown",
      "source": [
        "## Exercice 5\n",
        "On dispose d’un programme permettant de créer un objet de type PaquetDeCarte,\n",
        "selon les éléments indiqués dans le code ci-dessous.\n",
        "Compléter ce code aux endroits indiqués par ??? puis ajouter des assertions dans\n",
        "l’initialiseur de Carte, ainsi que dans la méthode getCarteAt().\n"
      ],
      "metadata": {
        "id": "23qwy5dajCu2"
      }
    },
    {
      "cell_type": "code",
      "source": [
        "class Carte:\n",
        "  \"\"\"Initialise Couleur (entre 1 à 4), et Valeur (entre 1 à\n",
        "  13)\"\"\"\n",
        "  def __init__(self, c, v):\n",
        "    self.Couleur = c\n",
        "    self.Valeur = v\n",
        "\n",
        "  \"\"\"Renvoie le nom de la Carte As, 2, ... 10,\n",
        "  Valet, Dame, Roi\"\"\"\n",
        "  def getNom(self):\n",
        "    if ( self.Valeur > 1 and self.Valeur < 11):\n",
        "      return str( self.Valeur)\n",
        "    elif self.Valeur == 11:\n",
        "      return \"Valet\"\n",
        "    elif self.Valeur == 12:\n",
        "      return \"Dame\"\n",
        "    elif self.Valeur == 13:\n",
        "      return \"Roi\"\n",
        "    else:\n",
        "      return \"As\"\n",
        "\n",
        "  \"\"\"Renvoie la couleur de la Carte (parmi pique, coeur,\n",
        "  carreau, trefle\"\"\"\n",
        "\n",
        "  def getCouleur(self):\n",
        "    return ['pique', 'coeur', 'carreau', 'trefle'][self.Couleur - 1]\n",
        "\n",
        "\n",
        "\n",
        "class PaquetDeCarte:\n",
        "  def __init__(self):\n",
        "    self.contenu = []\n",
        "  \n",
        "  \"\"\"Remplit le paquet de cartes\"\"\"\n",
        "  def remplir(self):\n",
        "    self.contenu = [Carte(couleur, valeur) for couleur in range(1, 5) for valeur in range(1, 14)]\n",
        "\n",
        "  \"\"\"Renvoie la Carte qui se trouve à la position donnée\"\"\"\n",
        "  def getCarteAt(self, pos):\n",
        "    if 0 <= pos < 52 :\n",
        "      return self.contenu[pos]"
      ],
      "metadata": {
        "id": "i290TjzNjCYP"
      },
      "execution_count": null,
      "outputs": []
    },
    {
      "cell_type": "markdown",
      "source": [
        "## Exercice 6\n",
        "\n",
        "Ecrire une fonction qui prend en paramètre un tableau d'entiers non vide et qui renvoie la\n",
        "moyenne de ces entiers. La fonction est spécifiée ci-après et doit passer les assertions\n",
        "fournies.\n"
      ],
      "metadata": {
        "id": "N3RcJ8z57ZeE"
      }
    },
    {
      "cell_type": "markdown",
      "source": [
        "Exemple :\n",
        "\n",
        "moyenne([1,2,3])\n",
        "\n",
        "==> 2"
      ],
      "metadata": {
        "id": "jRLhfSFp_ED5"
      }
    },
    {
      "cell_type": "code",
      "source": [
        "def moyenne(tab):\n",
        "  '''\n",
        "  moyenne(list) -> float\n",
        "  Entrée : un tableau non vide d'entiers\n",
        "  Sortie : nombre de type float\n",
        "  Correspondant à la moyenne des valeurs présentes dans le\n",
        "  tableau\n",
        "  '''\n",
        "  "
      ],
      "metadata": {
        "id": "0PAaSyHG9ngn"
      },
      "execution_count": null,
      "outputs": []
    },
    {
      "cell_type": "code",
      "source": [
        "def moyenne(tab):\n",
        "    somme=0\n",
        "    moy=0\n",
        "    for elt in tab:\n",
        "        somme+=elt\n",
        "    moy=somme/len(tab)\n",
        "    return moy\n",
        "\n",
        "moyenne([1,2,3,5])"
      ],
      "metadata": {
        "colab": {
          "base_uri": "https://localhost:8080/"
        },
        "id": "srNJXEhbAnuD",
        "outputId": "c6db98fb-86d6-44f9-d62d-870a965f31a7"
      },
      "execution_count": null,
      "outputs": [
        {
          "output_type": "execute_result",
          "data": {
            "text/plain": [
              "2.75"
            ]
          },
          "metadata": {},
          "execution_count": 12
        }
      ]
    },
    {
      "cell_type": "markdown",
      "source": [
        "## Exercice 7\n",
        "\n",
        "Soit un nombre entier supérieur ou égal à 1 :\n",
        "- s'il est pair, on le divise par 2 ;\n",
        "- s’il est impair, on le multiplie par 3 et on ajoute 1.\n",
        "\n",
        "\n",
        "Puis on recommence ces étapes avec le nombre entier obtenu, jusqu’à ce que l’on\n",
        "obtienne la valeur 1.\n",
        "On définit ainsi la suite (un) par\n",
        "- u0 = k , où k est un entier choisi initialement ;\n",
        "- un+1 = un / 2 si un est pair ;\n",
        "- un+1 = 3×un + 1 si un est impair.\n",
        "On admet que, quel que soit l’entier k choisi au départ, la suite finit toujours sur la\n",
        "valeur 1.\n",
        "Écrire une fonction calcul prenant en paramètres un entier n strictement positif et qui\n",
        "renvoie la liste des valeurs un , en partant de k et jusqu’à atteindre 1.\n",
        "\n",
        "Exemple :\n",
        "\n",
        "calcul(7)\n",
        "\n",
        "==> [7, 22, 11, 34, 17, 52, 26, 13, 40, 20, 10, 5, 16, 8, 4, 2, 1]"
      ],
      "metadata": {
        "id": "rbL80EMA_apA"
      }
    },
    {
      "cell_type": "code",
      "source": [
        "def calcul(n):\n",
        "    liste=[]\n",
        "    liste.append(n)\n",
        "    while n!=1:\n",
        "        if n%2==0:\n",
        "            n=n//2\n",
        "            liste.append(n)\n",
        "        else:\n",
        "            n=n*3+1\n",
        "            liste.append(n)\n",
        "    return liste"
      ],
      "metadata": {
        "id": "KqXISswKDFZZ"
      },
      "execution_count": null,
      "outputs": []
    }
  ]
}