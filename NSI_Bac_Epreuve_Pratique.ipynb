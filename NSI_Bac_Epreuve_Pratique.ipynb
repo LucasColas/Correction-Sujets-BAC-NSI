{
  "cells": [
    {
      "cell_type": "markdown",
      "metadata": {
        "id": "view-in-github",
        "colab_type": "text"
      },
      "source": [
        "<a href=\"https://colab.research.google.com/github/LucasColas/Correction-Sujets-BAC-NSI/blob/main/NSI_Bac_Epreuve_Pratique.ipynb\" target=\"_parent\"><img src=\"https://colab.research.google.com/assets/colab-badge.svg\" alt=\"Open In Colab\"/></a>"
      ]
    },
    {
      "cell_type": "markdown",
      "source": [
        "# Bac Sujet 1\n",
        "## Exo 1 \n",
        "Écrire une fonction recherche qui prend en paramètres caractere, un caractère, et \n",
        "mot, une chaîne de caractères, et qui renvoie le nombre d’occurrences de caractere\n",
        "dans mot, c’est-à-dire le nombre de fois où caractere apparaît dans mot.\n",
        "\n",
        "Exemples :\n",
        "\n",
        "\n",
        " recherche('e', \"sciences\")\n",
        "\n",
        "==> 2\n",
        "\n",
        "recherche('i',\"mississippi\")\n",
        "\n",
        "==> 4\n",
        "\n",
        "recherche('a',\"mississippi\")\n",
        "\n",
        "==> 0\n"
      ],
      "metadata": {
        "id": "TlzIqvycIkBP"
      }
    },
    {
      "cell_type": "code",
      "source": [
        "def recherche(caractere, mot):\n",
        "  count = 0\n",
        "  for i in range(len(mot)): \n",
        "    if mot[i] == caractere:\n",
        "      count += 1 #count = count + 1 \n",
        "\n",
        "  return count\n",
        "\n",
        "mot = \"sciences\"\n",
        "caractere = 'e'\n",
        "recherche(caractere,mot)\n"
      ],
      "metadata": {
        "id": "Qi28-F40IlfO"
      },
      "execution_count": null,
      "outputs": []
    },
    {
      "cell_type": "code",
      "source": [
        "def recherche(caractere, mot):\n",
        "   x = 0\n",
        "   for i in mot:\n",
        "      if i == caractere:\n",
        "         x+=1\n",
        "   return x\n",
        "\n",
        "recherche('e',\"sciences\")"
      ],
      "metadata": {
        "id": "EH1Mkbg7InQw"
      },
      "execution_count": null,
      "outputs": []
    },
    {
      "cell_type": "markdown",
      "source": [
        "### Exo 2\n",
        "On s’intéresse à un algorithme récursif qui permet de rendre la monnaie à partir d’une \n",
        "liste donnée de valeurs de pièces et de billets - le système monétaire est donné sous \n",
        "forme d’une liste pieces=[100, 50, 20, 10, 5, 2, 1] - (on supposera qu’il n’y a \n",
        "pas de limitation quant à leur nombre), on cherche à donner la liste de pièces à rendre \n",
        "pour une somme donnée en argument.\n",
        "\n",
        "Compléter le code Python ci-dessous de la fonction rendu_glouton qui implémente cet \n",
        "algorithme et renvoie la liste des pièces à rendre.\n",
        "\n",
        "Exemple de ce qu'on doit obtenir : \n",
        "\n",
        "rendu_glouton(291,[],0)\n",
        "\n",
        "[100, 100, 50, 20, 20, 1]"
      ],
      "metadata": {
        "id": "wVbv_0sDIpdz"
      }
    },
    {
      "cell_type": "code",
      "source": [
        "Pieces = [100,50,20,10,5,2,1]\n",
        "def rendu_glouton(arendre, solution=[], i=0):\n",
        "  if arendre == 0:\n",
        "    return solution\n",
        "\n",
        "  p = Pieces[i]\n",
        "\n",
        "  if p <= arendre:\n",
        "    solution.append(p)\n",
        "    return rendu_glouton(arendre - p, solution, i)\n",
        "  else :\n",
        "    return rendu_glouton(arendre, solution, i+1)\n",
        "\n",
        "\n",
        "rendu_glouton(291,[],0)\n"
      ],
      "metadata": {
        "id": "yf9R7zfwIrcc"
      },
      "execution_count": null,
      "outputs": []
    },
    {
      "cell_type": "markdown",
      "source": [
        "# Sujet 2\n",
        "# Exo 1\n",
        "\n",
        "Soit le couple (note,coefficient):\n",
        "\n",
        "-note est un nombre de type flottant (*float) compris entre 0 et 20 ;\n",
        "\n",
        "-coefficient est un nombre entier positif.\n",
        "\n",
        "Les résultats aux évaluations d'un élève sont regroupés dans une liste composée de \n",
        "couples (note,coefficient).\n",
        "\n",
        "Écrire une fonction moyenne qui renvoie la moyenne pondérée de cette liste donnée en \n",
        "paramètre.\n",
        "\n",
        "Par exemple, l’expression moyenne([(15,2),(9,1),(12,3)]) devra renvoyer le \n",
        "\n",
        "résultat du calcul suivant :\n",
        "(2 × 15 + 1 × 9 + 3 × 12)/(2 + 1 + 3)\n",
        "= 12,5"
      ],
      "metadata": {
        "id": "Yi_6gfWHIuAx"
      }
    },
    {
      "cell_type": "code",
      "source": [
        "def moyenne(liste):\n",
        "  somme_coef = 0\n",
        "  numerateur = 0\n",
        "  for i in range(len(liste)):\n",
        "    #print(liste[i][1])\n",
        "    somme_coef += liste[i][1] #somme_coef = somme_coef + liste[i][1]\n",
        "    numerateur += liste[i][1] * liste[i][0]\n",
        "  #print(somme_coef)\n",
        "\n",
        "  #print(numerateur)\n",
        "  return numerateur/somme_coef\n",
        "\n",
        "\n",
        "moyenne([(15,2),(9,1),(12,3)])"
      ],
      "metadata": {
        "id": "nzYQhAAEIvcu"
      },
      "execution_count": null,
      "outputs": []
    },
    {
      "cell_type": "markdown",
      "source": [
        "### Ex 2\n",
        "\n",
        "On cherche à déterminer les valeurs du triangle de Pascal. Dans ce tableau de forme \n",
        "triangulaire, chaque ligne commence et se termine par le nombre 1. Par ailleurs, la valeur \n",
        "qui occupe une case située à l’intérieur du tableau s’obtient en ajoutant les valeurs des \n",
        "deux cases situées juste au-dessus.\n",
        "\n",
        "Compléter la fonction pascal ci-après. Elle doit renvoyer une liste correspondant au \n",
        "triangle de Pascal de la ligne 1 à la ligne n où n est un nombre entier supérieur ou égal à \n",
        "2 (le tableau sera contenu dans la variable C). La variable Ck doit, quant à elle, contenir, \n",
        "à l’étape numéro k, la k-ième ligne du tableau.\n",
        "\n",
        "pascal(4)\n",
        "[[1], [1, 1], [1, 2, 1], [1, 3, 3, 1], [1, 4, 6, 4, 1]]"
      ],
      "metadata": {
        "id": "Ld_NZTnGIxbD"
      }
    },
    {
      "cell_type": "code",
      "source": [
        "def pascal(n):\n",
        "  C= [[1]]\n",
        "  for k in range(1,n+1): \n",
        "    Ck = [1]\n",
        "    for i in range(1,k): \n",
        "      s = C[k-1][i-1]+C[k-1][i]\n",
        "      Ck.append(s)\n",
        "    Ck.append(1)\n",
        "    C.append(Ck)\n",
        "  return C\n",
        "\n",
        "\n",
        "pascal(5)"
      ],
      "metadata": {
        "id": "BBsM3q-rI0Zp"
      },
      "execution_count": null,
      "outputs": []
    },
    {
      "cell_type": "markdown",
      "metadata": {
        "id": "ldTfrgq6y1-H"
      },
      "source": [
        "# Sujet 3"
      ]
    },
    {
      "cell_type": "code",
      "execution_count": null,
      "metadata": {
        "colab": {
          "base_uri": "https://localhost:8080/"
        },
        "id": "hxtSO675ywEZ",
        "outputId": "d9d21efb-69a6-49f2-ea39-0bce080f43e3"
      },
      "outputs": [
        {
          "data": {
            "text/plain": [
              "[42]"
            ]
          },
          "execution_count": 2,
          "metadata": {},
          "output_type": "execute_result"
        }
      ],
      "source": [
        "#EXO 1\n",
        "\n",
        "def delta(tab):\n",
        "  if len(tab) == 1:\n",
        "    return tab\n",
        "\n",
        "  resultat = []\n",
        "  resultat.append(tab[0])\n",
        "  for i in range(1, len(tab)): \n",
        "    soustraction = tab[i] - tab[i-1]\n",
        "    resultat.append(soustraction)\n",
        "  return resultat\n",
        "\n",
        "delta([42])"
      ]
    },
    {
      "cell_type": "code",
      "execution_count": null,
      "metadata": {
        "id": "-t_V_j771EMg"
      },
      "outputs": [],
      "source": [
        "#EXO 2\n",
        "def expression_infixe(e):\n",
        "    s = ''\n",
        "    if e.gauche is not None:\n",
        "        s = '(' + s + expression_infixe(e.gauche)\n",
        "    s = s + str(e.valeur)\n",
        "    if e.droit is not None:\n",
        "        s = s + expression_infixe(e.droit) + ')'\n",
        "    return s"
      ]
    },
    {
      "cell_type": "markdown",
      "metadata": {
        "id": "SZmfUJq-DpUh"
      },
      "source": [
        "# Sujet 4"
      ]
    },
    {
      "cell_type": "code",
      "execution_count": null,
      "metadata": {
        "colab": {
          "base_uri": "https://localhost:8080/"
        },
        "id": "ChwUWN__Dq0o",
        "outputId": "b23efbad-63d1-4dbd-e41b-cdbba046ae60"
      },
      "outputs": [
        {
          "data": {
            "text/plain": [
              "[(1, 2), (2, 3), (-5, -4)]"
            ]
          },
          "execution_count": 4,
          "metadata": {},
          "output_type": "execute_result"
        }
      ],
      "source": [
        "#Exo 1\n",
        "def recherche(tab):\n",
        "  res = []\n",
        "  for i in range(0, len(tab)-1):\n",
        "    if tab[i] - tab[i+1] == -1:\n",
        "      res.append((tab[i], tab[i+1]))\n",
        "  return res\n",
        "\n",
        "recherche([5, 1, 2, 3, 8, -5, -4, 7])\n"
      ]
    },
    {
      "cell_type": "code",
      "execution_count": null,
      "metadata": {
        "id": "qyTHhoXDIpeT"
      },
      "outputs": [],
      "source": [
        "[[0,0,1,0], [0,1,0,1], [1,1,1,0], [0,1,1,0]]"
      ]
    },
    {
      "cell_type": "code",
      "execution_count": null,
      "metadata": {
        "id": "Ubd38mhFG5VZ"
      },
      "outputs": [],
      "source": [
        "#Exo 2\n",
        "def propager(M, i, j, val):\n",
        "  if M[i][j]== 0:\n",
        "    return\n",
        "  M[i][j]=val\n",
        "\n",
        "  # l'élément en haut fait partie de la composante\n",
        "  if ((i-1) >= 0 and M[i-1][j] == 1):\n",
        "    propager(M, i-1, j, val)\n",
        "\n",
        "  # l'élément en bas fait partie de la composante\n",
        "  if ((i+1) < len(M) and M[i+1][j] == 1):\n",
        "    propager(M, i+1, j, val)\n",
        "    \n",
        "  # l'élément à gauche fait partie de la composante\n",
        "  if ((j-1) >= 0 and M[i][j-1] == 1):\n",
        "    propager(M, i, j-1, val)\n",
        "  # l'élément à droite fait partie de la composante\n",
        "  if ((j+1) < len(M) and M[i][j+1] == 1):\n",
        "    propager(M, i, j+1, val)\n",
        "\n"
      ]
    },
    {
      "cell_type": "markdown",
      "metadata": {
        "id": "y60o6rUN4HF-"
      },
      "source": [
        "# Sujet 5 "
      ]
    },
    {
      "cell_type": "code",
      "execution_count": null,
      "metadata": {
        "colab": {
          "base_uri": "https://localhost:8080/"
        },
        "id": "7Nnd0Zft4G7j",
        "outputId": "75d594cc-f6d8-45d1-e443-972dd7bdc7f3"
      },
      "outputs": [
        {
          "data": {
            "text/plain": [
              "{'max': None, 'min': None}"
            ]
          },
          "execution_count": 4,
          "metadata": {},
          "output_type": "execute_result"
        }
      ],
      "source": [
        "def RechercheMinMax(tab):\n",
        "  resultat = {'min':None, 'max':None}\n",
        "\n",
        "  if len(tab) == 0:\n",
        "    return resultat\n",
        "\n",
        "  resultat['min'] = tab[0]\n",
        "  resultat['max'] = tab[0]\n",
        "\n",
        "  for num in tab:\n",
        "    if num < resultat['min']:\n",
        "      resultat['min'] = num \n",
        "\n",
        "    elif num > resultat['max']:\n",
        "      resultat['max'] = num\n",
        "\n",
        "  return resultat\n",
        "\n",
        "tableau = []\n",
        "RechercheMinMax(tableau)\n",
        "\n"
      ]
    },
    {
      "cell_type": "code",
      "execution_count": null,
      "metadata": {
        "id": "AJ2hIftU6eOL"
      },
      "outputs": [],
      "source": [
        "class Carte:\n",
        "  \"\"\"Initialise Couleur (entre 1 à 4), et Valeur (entre 1 à\n",
        "  13)\"\"\"\n",
        "  def __init__(self, c, v):\n",
        "    assert c in range(1,5)\n",
        "    assert v in range(1,14)\n",
        "    self.Couleur = c\n",
        "    self.Valeur = v\n",
        "\n",
        "  \"\"\"Renvoie le nom de la Carte As, 2, ... 10,\n",
        "  Valet, Dame, Roi\"\"\"\n",
        "  def getNom(self):\n",
        "    if ( self.Valeur > 1 and self.Valeur < 11):\n",
        "      return str( self.Valeur)\n",
        "    elif self.Valeur == 11:\n",
        "      return \"Valet\"\n",
        "    elif self.Valeur == 12:\n",
        "      return \"Dame\"\n",
        "    elif self.Valeur == 13:\n",
        "      return \"Roi\"\n",
        "    else:\n",
        "      return \"As\"\n",
        "  \"\"\"Renvoie la couleur de la Carte (parmi pique, coeur,\n",
        "  carreau, trefle\"\"\"\n",
        "\n",
        "  def getCouleur(self):\n",
        "    return ['pique', 'coeur', 'carreau', 'trefle'][self.Couleur - 1]\n",
        "\n",
        "class PaquetDeCarte:\n",
        "  def __init__(self):\n",
        "    self.contenu = []\n",
        "\n",
        "  \"\"\"Remplit le paquet de cartes\"\"\"\n",
        "  def remplir(self):\n",
        "    self.contenu = [Carte(couleur, valeur) for couleur in range(1, 5) for valeur in range(1, 14)]\n",
        "\n",
        "    #for valeur in range(1,14):\n",
        "      #couleur in range(1,5):\n",
        "        #self.contenu.append(Carte(couleur, valeur))\n",
        "\n",
        "  \"\"\"Renvoie la Carte qui se trouve à la position donnée\"\"\"\n",
        "  def getCarteAt(self, pos):\n",
        "    assert pos in range(0, 52)\n",
        "    if 0 <= pos < 52:\n",
        "      return self.contenu[pos]"
      ]
    },
    {
      "cell_type": "markdown",
      "metadata": {
        "id": "Fb2dkZa3h3XA"
      },
      "source": [
        "# Sujet 7 "
      ]
    },
    {
      "cell_type": "markdown",
      "metadata": {
        "id": "pmHDXl65ojp3"
      },
      "source": [
        "## Exercice 1"
      ]
    },
    {
      "cell_type": "code",
      "execution_count": null,
      "metadata": {
        "colab": {
          "base_uri": "https://localhost:8080/"
        },
        "id": "iTlKfupBh3Nh",
        "outputId": "eb317ed9-89b1-46f4-a565-8c53d11428a1"
      },
      "outputs": [
        {
          "data": {
            "text/plain": [
              "([1, 0, 0], 3)"
            ]
          },
          "execution_count": 3,
          "metadata": {},
          "output_type": "execute_result"
        }
      ],
      "source": [
        "def conv_bin(n):\n",
        "  L = []\n",
        "  while n > 0:\n",
        "    L.append(n%2)\n",
        "    n = n//2\n",
        "\n",
        "  L.reverse()\n",
        "  return (L, len(L))\n",
        "\n",
        "conv_bin(4)"
      ]
    },
    {
      "cell_type": "markdown",
      "metadata": {
        "id": "bKTWe1gmomPf"
      },
      "source": [
        "## Exercice 2"
      ]
    },
    {
      "cell_type": "code",
      "execution_count": null,
      "metadata": {
        "colab": {
          "base_uri": "https://localhost:8080/"
        },
        "id": "O9xdFvHgomBn",
        "outputId": "e2677836-54b8-4b37-ad6f-816d24d2b395"
      },
      "outputs": [
        {
          "data": {
            "text/plain": [
              "[1, 2, 3, 9, 4, 5]"
            ]
          },
          "execution_count": 6,
          "metadata": {},
          "output_type": "execute_result"
        }
      ],
      "source": [
        "def tri_bulles(T):\n",
        "  n = len(T)\n",
        "  for i in range(n-1,0,-1):\n",
        "    for j in range(i):\n",
        "      if T[j] > T[i]:\n",
        "        temp = T[j]\n",
        "        T[j] = T[j+1]\n",
        "        T[j+1] = temp\n",
        "  return T\n",
        "\n",
        "\n",
        "tri_bulles([5,4,2,9,1,3])"
      ]
    },
    {
      "cell_type": "markdown",
      "metadata": {
        "id": "61ZfK5M_oZtp"
      },
      "source": [
        "# Sujet 8\n",
        "Écrire une fonction recherche qui prend en paramètres elt un nombre entier et tab\n",
        "un tableau de nombres entiers, et qui renvoie l’indice de la première occurrence de elt\n",
        "dans tab si elt est dans tab et -1 sinon.\n",
        "\n",
        "Exemples :\n",
        "\n",
        "recherche(1, [2, 3, 4])\n",
        "\n",
        "-1\n",
        "\n",
        "\n",
        "recherche(1, [10, 12, 1, 56])\n",
        "\n",
        "2\n",
        "\n",
        "recherche(50, [1, 50, 1])\n",
        "\n",
        "1\n",
        "\n",
        "recherche(15, [8, 9, 10, 15])\n",
        "\n",
        "3"
      ]
    },
    {
      "cell_type": "code",
      "execution_count": null,
      "metadata": {
        "colab": {
          "base_uri": "https://localhost:8080/"
        },
        "id": "paDMwFjqoZZw",
        "outputId": "05b11c13-a04c-4a5a-a12b-2a14f3874418"
      },
      "outputs": [
        {
          "output_type": "execute_result",
          "data": {
            "text/plain": [
              "3"
            ]
          },
          "metadata": {},
          "execution_count": 6
        }
      ],
      "source": [
        "def recherche(elt, tab):\n",
        "  for i in range(len(tab)):\n",
        "    if tab[i] == elt:\n",
        "      return i \n",
        "  return -1\n",
        "\n",
        "recherche(15, [8, 9, 10, 15])\n",
        "  "
      ]
    },
    {
      "cell_type": "markdown",
      "source": [
        "## Exo 2"
      ],
      "metadata": {
        "id": "jwa_lrHxsvTP"
      }
    },
    {
      "cell_type": "markdown",
      "source": [
        "On considère la fonction insere ci-dessous qui prend en argument un entier a et un\n",
        "tableau tab d'entiers triés par ordre croissant. Cette fonction insère la valeur a dans le\n",
        "tableau et renvoie le nouveau tableau. Les tableaux seront représentés sous la forme de\n",
        "listes python."
      ],
      "metadata": {
        "id": "hOtOfnlBsg1F"
      }
    },
    {
      "cell_type": "code",
      "source": [
        "def insere(a, tab):\n",
        "  l = list(tab) #l contient les mêmes éléments que tab\n",
        "  l.append(a)\n",
        "  i = len(l)-2\n",
        "  while a < l[i] and i >= 0:\n",
        "    l[i+1] = l[i]\n",
        "    l[i] = a\n",
        "    i = i - 1\n",
        "  return l\n",
        "\n",
        "insere(3,[1,2,4,5])\n"
      ],
      "metadata": {
        "colab": {
          "base_uri": "https://localhost:8080/"
        },
        "id": "9CnFUohqsgdQ",
        "outputId": "bafa0a62-a27d-44b7-9a4b-2090932c59ce"
      },
      "execution_count": null,
      "outputs": [
        {
          "output_type": "execute_result",
          "data": {
            "text/plain": [
              "[1, 2, 3, 4, 5]"
            ]
          },
          "metadata": {},
          "execution_count": 9
        }
      ]
    },
    {
      "cell_type": "markdown",
      "source": [
        "# Sujet 9"
      ],
      "metadata": {
        "id": "YW0rzKAL4MmE"
      }
    },
    {
      "cell_type": "markdown",
      "source": [
        "### Exo 1\n",
        "\n",
        "\n",
        "Soit un nombre entier supérieur ou égal à 1 :\n",
        "- s'il est pair, on le divise par 2 ;\n",
        "- s’il est impair, on le multiplie par 3 et on ajoute 1.\n",
        "Puis on recommence ces étapes avec le nombre entier obtenu, jusqu’à ce que l’on\n",
        "obtienne la valeur 1.\n",
        "\n",
        "On définit ainsi la suite (un) par\n",
        "- u0 = k , où k est un entier choisi initialement ;\n",
        "- un+1 = un / 2 si un est pair ;\n",
        "- un+1 = 3×un + 1 si un est impair.\n",
        "\n",
        "On admet que, quel que soit l’entier k choisi au départ, la suite finit toujours sur la\n",
        "valeur 1.\n",
        "Écrire une fonction calcul prenant en paramètres un entier n strictement positif et qui\n",
        "renvoie la liste des valeurs un , en partant de k et jusqu’à atteindre 1."
      ],
      "metadata": {
        "id": "ctmX0EGJ4NzX"
      }
    },
    {
      "cell_type": "code",
      "source": [
        "def calcul(n):\n",
        "  un = n \n",
        "  res = []\n",
        "\n",
        "  while un > 1:\n",
        "    res.append(un)\n",
        "    if un%2 == 0:\n",
        "      un = un // 2\n",
        "    else:\n",
        "      un = 3*un + 1\n",
        "\n",
        "  res.append(un)\n",
        "  return res\n",
        "\n",
        "calcul(297)\n"
      ],
      "metadata": {
        "id": "cM3w_a754MQl"
      },
      "execution_count": null,
      "outputs": []
    },
    {
      "cell_type": "markdown",
      "source": [
        "### Exo 2\n",
        "\n",
        "\n"
      ],
      "metadata": {
        "id": "Gp3E4GSe8civ"
      }
    },
    {
      "cell_type": "code",
      "source": [
        "dico = {\"A\":1, \"B\":2, \"C\":3, \"D\":4, \"E\":5, \"F\":6, \"G\":7, \"H\":8, \"I\":9, \"J\":10, \"K\":11, \"L\":12, \"M\":13,\n",
        "        \"N\":14, \"O\":15, \"P\":16, \"Q\":17, \"R\":18, \"S\":19, \n",
        "        \"T\":20, \"U\":21,\"V\":22, \"W\":23, \"X\":24, \"Y\":25, \"Z\":26}\n",
        "\n",
        "def est_parfait(mot) :\n",
        "  #mot est une chaîne de caractères (en lettres majuscules)\n",
        "  code_c = \"\"\n",
        "  code_a = 0\n",
        "  for c in mot:\n",
        "    code_c = code_c + str(dico[c])\n",
        "    code_a = code_a + dico[c]\n",
        "  code_c = int(code_c)\n",
        "  if code_c%code_a == 0:\n",
        "    mot_est_parfait = True\n",
        "  else :\n",
        "    mot_est_parfait = False\n",
        "  return [code_a, code_c, mot_est_parfait]\n",
        "\n",
        "est_parfait(\"PAUL\")"
      ],
      "metadata": {
        "colab": {
          "base_uri": "https://localhost:8080/"
        },
        "id": "bgMPGK3K8lIH",
        "outputId": "06c46fdb-6dd5-4f9f-b06d-a5ff7639454d"
      },
      "execution_count": null,
      "outputs": [
        {
          "output_type": "execute_result",
          "data": {
            "text/plain": [
              "[50, 1612112, False]"
            ]
          },
          "metadata": {},
          "execution_count": 8
        }
      ]
    },
    {
      "cell_type": "markdown",
      "source": [
        "# Sujet 10"
      ],
      "metadata": {
        "id": "Ons3SZhz_GSF"
      }
    },
    {
      "cell_type": "markdown",
      "source": [
        "### Exo 1\n",
        "\n",
        "\n",
        "L’occurrence d’un caractère dans un phrase est le nombre de fois où ce caractère est\n",
        "présent.\n",
        "\n",
        "Exemples :\n",
        "* l’occurrence du caractère ‘o’ dans ‘bonjour’ est 2 ;\n",
        "* l’occurrence du caractère ‘b’ dans ‘Bébé’ est 1 ;\n",
        "* l’occurrence du caractère ‘B’ dans ‘Bébé’ est 1 ;\n",
        "* l’occurrence du caractère ‘ ‘ dans ‘Hello world !’ est 2.\n",
        "\n",
        "On cherche les occurrences des caractères dans une phrase. On souhaite stocker ces\n",
        "occurrences dans un dictionnaire dont les clefs seraient les caractères de la phrase et\n",
        "les valeurs l’occurrence de ces caractères.\n",
        "Par exemple : avec la phrase 'Hello world !' le dictionnaire est le suivant :\n",
        "\n",
        "{'H': 1,'e': 1,'l': 3,'o': 2,' ': 2,'w': 1,'r': 1,'d': 1,'!': 1}\n",
        "\n",
        "(l’ordre des clefs n’ayant pas d’importance).\n",
        "Écrire une fonction occurence_lettres avec prenant comme paramètre une variable\n",
        "phrase de type str. \n",
        "\n",
        "Cette fonction doit renvoyer un dictionnaire de type constitué des\n",
        "occurrences des caractères présents dans la phrase."
      ],
      "metadata": {
        "id": "U-EZVMsH_IWp"
      }
    },
    {
      "cell_type": "code",
      "source": [
        "def occurence_lettres(phrase): \n",
        "  dico = {}\n",
        "  for l in phrase:\n",
        "    if l in dico.keys():\n",
        "      dico[l] += 1\n",
        "    else:\n",
        "      dico[l] = 1\n",
        "  return dico\n",
        "\n",
        "phrase = \"Hello World !\"\n",
        "occurence_lettres(phrase)"
      ],
      "metadata": {
        "colab": {
          "base_uri": "https://localhost:8080/"
        },
        "id": "gDJ8XR7F_GAt",
        "outputId": "b69cf3bb-94d6-4f61-9704-2f5006076b28"
      },
      "execution_count": null,
      "outputs": [
        {
          "output_type": "execute_result",
          "data": {
            "text/plain": [
              "{'H': 1, 'e': 1, 'l': 3, 'o': 2, ' ': 2, 'W': 1, 'r': 1, 'd': 1, '!': 1}"
            ]
          },
          "metadata": {},
          "execution_count": 9
        }
      ]
    },
    {
      "cell_type": "code",
      "source": [
        "#exo 1\n",
        "from collections import defaultdict\n",
        "\n",
        "def occurence_lettres(phrase): \n",
        "  dico = defaultdict(int)\n",
        "  for l in phrase:\n",
        "    dico[l] += 1\n",
        "  return dico\n",
        "\n",
        "phrase = \"Hello World !\"\n",
        "occurence_lettres(phrase)"
      ],
      "metadata": {
        "colab": {
          "base_uri": "https://localhost:8080/"
        },
        "id": "jIUs2YnZBilz",
        "outputId": "8abff042-0005-4b5d-e51a-103337636772"
      },
      "execution_count": null,
      "outputs": [
        {
          "output_type": "execute_result",
          "data": {
            "text/plain": [
              "defaultdict(int,\n",
              "            {'H': 1,\n",
              "             'e': 1,\n",
              "             'l': 3,\n",
              "             'o': 2,\n",
              "             ' ': 2,\n",
              "             'W': 1,\n",
              "             'r': 1,\n",
              "             'd': 1,\n",
              "             '!': 1})"
            ]
          },
          "metadata": {},
          "execution_count": 10
        }
      ]
    },
    {
      "cell_type": "markdown",
      "source": [
        "### Exo 2\n",
        "Faire une fonction qui fusionne deux listes (L1,L2) triées. La nouvelle liste sera triée aussi."
      ],
      "metadata": {
        "id": "YhDeV7iLCdNS"
      }
    },
    {
      "cell_type": "code",
      "source": [
        "def fusion(L1,L2):\n",
        "    n1 = len(L1)\n",
        "    n2 = len(L2)\n",
        "    L12 = [0]*(n1+n2)\n",
        "    i1 = 0\n",
        "    i2 = 0\n",
        "    i = 0\n",
        "    while i1 < n1 and i2 < n2:\n",
        "      if L1[i1] < L2[i2]:\n",
        "        L12[i] = L1[i1]\n",
        "        i1 = i1 + 1\n",
        "      else:\n",
        "        L12[i] = L2[i2]\n",
        "        i2 = i2 + 1\n",
        "      i += 1\n",
        "    while i1 < n1:\n",
        "      L12[i] = L1[i1]\n",
        "      i1 = i1 + 1\n",
        "      i = i + 1\n",
        "    while i2 < n2:\n",
        "      L12[i] = L2[i2]\n",
        "      i2 = i2 + 1\n",
        "      i = i + 1\n",
        "    return L12\n",
        "\n",
        "fusion([1,6,10],[0,7,8,9])"
      ],
      "metadata": {
        "colab": {
          "base_uri": "https://localhost:8080/"
        },
        "id": "i6VyAXIeCN22",
        "outputId": "f2023360-ce3c-4765-ed11-c1c85e1da121"
      },
      "execution_count": null,
      "outputs": [
        {
          "output_type": "execute_result",
          "data": {
            "text/plain": [
              "[0, 1, 6, 7, 8, 9, 10]"
            ]
          },
          "metadata": {},
          "execution_count": 11
        }
      ]
    },
    {
      "cell_type": "markdown",
      "source": [
        "# Sujet 11"
      ],
      "metadata": {
        "id": "-H-oNzQHW27P"
      }
    },
    {
      "cell_type": "markdown",
      "source": [
        "## Exo 1\n",
        "\n",
        "Écrire une fonction recherche qui prend en paramètres un tableau tab de nombres\n",
        "entiers triés par ordre croissant et un nombre entier n, et qui effectue une recherche\n",
        "dichotomique du nombre entier n dans le tableau non vide tab.\n",
        "Cette fonction doit renvoyer un indice correspondant au nombre cherché s’il est dans le\n",
        "tableau, -1 sinon.\n",
        "\n",
        "\n",
        "Exemples:\n",
        "\n",
        "\n",
        " recherche([2, 3, 4, 5, 6], 5)\n",
        "\n",
        "3\n",
        "\n",
        " recherche([2, 3, 4, 6, 7], 5)\n",
        "\n",
        "-1"
      ],
      "metadata": {
        "id": "mE3TQpZaW-A0"
      }
    },
    {
      "cell_type": "code",
      "source": [
        "def recherche(tab, n):\n",
        "  a = 0\n",
        "  b = len(tab)-1\n",
        "  while a <= b:\n",
        "    m = (a+b)//2\n",
        "    if tab[m] == n:\n",
        "      return m \n",
        "    else:\n",
        "      if tab[m] < n:\n",
        "        a = m+1\n",
        "      else:\n",
        "        b = m - 1\n",
        "\n",
        "  return -1\n",
        "\n",
        "recherche([2, 3, 4, 6, 7], 5)"
      ],
      "metadata": {
        "colab": {
          "base_uri": "https://localhost:8080/"
        },
        "id": "2b9TbLFpW6RU",
        "outputId": "0638a198-1323-4dad-d533-058326360400"
      },
      "execution_count": 2,
      "outputs": [
        {
          "output_type": "execute_result",
          "data": {
            "text/plain": [
              "-1"
            ]
          },
          "metadata": {},
          "execution_count": 2
        }
      ]
    },
    {
      "cell_type": "markdown",
      "source": [
        "## Exo 2\n",
        "\n",
        "Le codage de César transforme un message en changeant chaque lettre en la décalant\n",
        "dans l’alphabet.\n",
        "\n",
        "Par exemple, avec un décalage de 3, le A se transforme en D, le B en E, ..., le X en A,\n",
        "le Y en B et le Z en C. Les autres caractères (‘!’,’ ?’...) ne sont pas codés.\n",
        "\n",
        "\n",
        "La fonction position_alphabet ci-dessous prend en paramètre un caractère lettre\n",
        "et renvoie la position de lettre dans la chaîne de caractères ALPHABET s’il s’y trouve\n",
        "et -1 sinon.\n",
        "\n",
        "La fonction cesar prend en paramètre une chaîne de caractères message et un nombre\n",
        "entier decalage et renvoie le nouveau message codé avec le codage de César utilisant\n",
        "le décalage decalage."
      ],
      "metadata": {
        "id": "zjEeEmEnX9Nj"
      }
    },
    {
      "cell_type": "code",
      "source": [
        "ALPHABET='ABCDEFGHIJKLMNOPQRSTUVWXYZ'\n",
        "def position_alphabet(lettre):\n",
        "  return ALPHABET.find(lettre)\n",
        "\n",
        "position_alphabet('Z')"
      ],
      "metadata": {
        "colab": {
          "base_uri": "https://localhost:8080/"
        },
        "id": "wC6N44ehdUZq",
        "outputId": "e27678b7-7161-430f-e89a-ee4ad8d63381"
      },
      "execution_count": 5,
      "outputs": [
        {
          "output_type": "execute_result",
          "data": {
            "text/plain": [
              "25"
            ]
          },
          "metadata": {},
          "execution_count": 5
        }
      ]
    },
    {
      "cell_type": "code",
      "source": [
        "ALPHABET='ABCDEFGHIJKLMNOPQRSTUVWXYZ'\n",
        "def position_alphabet(lettre):\n",
        "  return ALPHABET.find(lettre)\n",
        "\n",
        "\n",
        "def cesar(message, decalage):\n",
        "  resultat = ''\n",
        "  for lettre in message:\n",
        "    if lettre in ALPHABET:\n",
        "      indice = (position_alphabet(lettre)+decalage)%26\n",
        "      resultat = resultat + ALPHABET[indice]\n",
        "    else:\n",
        "      resultat = resultat + lettre\n",
        "  return resultat\n",
        "\n",
        "cesar('GTSOTZW F YTZX. ANAJ QF RFYNJWJ SXN !',-5)\n",
        "\n"
      ],
      "metadata": {
        "colab": {
          "base_uri": "https://localhost:8080/",
          "height": 35
        },
        "id": "v7L1FxICYSXB",
        "outputId": "8c38ccda-b6a2-42d8-9ced-7bd860cc7461"
      },
      "execution_count": 7,
      "outputs": [
        {
          "output_type": "execute_result",
          "data": {
            "text/plain": [
              "'BONJOUR A TOUS. VIVE LA MATIERE NSI !'"
            ],
            "application/vnd.google.colaboratory.intrinsic+json": {
              "type": "string"
            }
          },
          "metadata": {},
          "execution_count": 7
        }
      ]
    }
  ],
  "metadata": {
    "colab": {
      "provenance": [],
      "authorship_tag": "ABX9TyPN5i5o9BEkppA8xRUtQqKb",
      "include_colab_link": true
    },
    "kernelspec": {
      "display_name": "Python 3",
      "name": "python3"
    },
    "language_info": {
      "name": "python"
    }
  },
  "nbformat": 4,
  "nbformat_minor": 0
}